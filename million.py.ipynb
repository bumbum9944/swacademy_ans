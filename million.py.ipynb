{
 "cells": [
  {
   "cell_type": "code",
   "execution_count": 7,
   "metadata": {},
   "outputs": [
    {
     "name": "stdout",
     "output_type": "stream",
     "text": [
      "2658\n"
     ]
    }
   ],
   "source": [
    "for i in range(1,test+1):\n",
    "    case = int(input())\n",
    "    numbers = list(map(int, input().split()))\n",
    "# input에서 최댓값을 찾는다\n",
    "    \n",
    "    maximum = max(numbers)\n",
    "\n",
    "    maxindex = numbers.index(maximum)\n",
    "    profit = 0\n",
    "    # numbers의 길이가 1이상이면 반복\n",
    "    while len(numbers) >= 1:\n",
    "        buys = []\n",
    "# 최댓값이 리스트의 첫번째 항목이 아니면 이득 발생\n",
    "        if maxindex != 0:\n",
    "            for num in numbers[0:maxindex]:\n",
    "# 최댓값 왼쪽에 있는 수들의 리스트 생성\n",
    "                buys.append(num)\n",
    "# 이익 계산\n",
    "            for buy in buys:\n",
    "                profit += maximum - buy\n",
    "            numbers = numbers[maxindex+1:]\n",
    "            if len(numbers) == 0:\n",
    "                continue\n",
    "            else:\n",
    "                maximum = max(numbers)\n",
    "                maxindex = numbers.index(maximum)\n",
    "        else:\n",
    "            numbers = numbers[maxindex+1:]\n",
    "            if len(numbers) == 0:\n",
    "                continue\n",
    "            else:\n",
    "                maximum = max(numbers)\n",
    "                maxindex = numbers.index(maximum)\n",
    "    print(f'#{i} {profit}')\n",
    "            \n"
   ]
  }
 ],
 "metadata": {
  "kernelspec": {
   "display_name": "Python 3",
   "language": "python",
   "name": "python3"
  },
  "language_info": {
   "codemirror_mode": {
    "name": "ipython",
    "version": 3
   },
   "file_extension": ".py",
   "mimetype": "text/x-python",
   "name": "python",
   "nbconvert_exporter": "python",
   "pygments_lexer": "ipython3",
   "version": "3.7.3"
  }
 },
 "nbformat": 4,
 "nbformat_minor": 2
}
