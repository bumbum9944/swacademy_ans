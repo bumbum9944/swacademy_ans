{
 "cells": [
  {
   "cell_type": "code",
   "execution_count": null,
   "metadata": {},
   "outputs": [],
   "source": []
  },
  {
   "cell_type": "code",
   "execution_count": 1,
   "metadata": {},
   "outputs": [
    {
     "name": "stdout",
     "output_type": "stream",
     "text": [
      "1\n",
      "5 3\n",
      "0 0 1 1 1\n",
      "1 1 1 1 0\n",
      "0 0 1 0 0\n",
      "0 1 1 1 1\n",
      "1 1 1 0 1\n",
      "#1 0\n"
     ]
    }
   ],
   "source": [
    "tests = int(input())\n",
    "for test in range(1, tests+1):\n",
    "    nums = list(map(int, input().split()))\n",
    "    N = nums[0]\n",
    "    k = nums[1]\n",
    "    puzzle = []\n",
    "    for i in range(N):\n",
    "        puzzle.append(list(map(int, input().split())))\n",
    "# 가로확인\n",
    "    ans = 0\n",
    "    for ver in puzzle:\n",
    "        check = []\n",
    "        for hor, i in enumerate(ver):\n",
    "            if hor == 1:\n",
    "                if hor not in check:\n",
    "                    check.append(hor)\n",
    "                else:\n",
    "                    if ver[i-1] == 1:\n",
    "                        check.append(hor)\n",
    "        if len(check) == k:\n",
    "            ans += 1\n",
    "    print(f'#{test} {ans}')"
   ]
  }
 ],
 "metadata": {
  "kernelspec": {
   "display_name": "Python 3",
   "language": "python",
   "name": "python3"
  },
  "language_info": {
   "codemirror_mode": {
    "name": "ipython",
    "version": 3
   },
   "file_extension": ".py",
   "mimetype": "text/x-python",
   "name": "python",
   "nbconvert_exporter": "python",
   "pygments_lexer": "ipython3",
   "version": "3.7.3"
  }
 },
 "nbformat": 4,
 "nbformat_minor": 2
}
