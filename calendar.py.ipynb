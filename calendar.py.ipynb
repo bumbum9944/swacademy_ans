{
 "cells": [
  {
   "cell_type": "code",
   "execution_count": 5,
   "metadata": {},
   "outputs": [
    {
     "name": "stdout",
     "output_type": "stream",
     "text": [
      "#1 2222/02/28\n",
      "#2 2222/02/28\n",
      "#3 2222/02/28\n",
      "#4 2222/02/28\n",
      "#5 2222/02/28\n"
     ]
    }
   ],
   "source": [
    "test = int(input())\n",
    "\n",
    "for tes in range(1,test+1):\n",
    "    date  = input()\n",
    "    year = date[:4]\n",
    "    month = date[4:6]\n",
    "    day = date[6:]\n",
    "    day_31 = [1, 3, 5, 7, 8, 10, 12]\n",
    "    day_30 = [4, 6, 9, 11]\n",
    "    if int(month) in day_31 and 1 <= int(day) <= 31:\n",
    "        pass\n",
    "    elif int(month) in day_30 and 1 <= int(day) <= 30:\n",
    "        pass\n",
    "    elif int(month) == 2 and 1 <= int(day) <= 28:\n",
    "        pass\n",
    "    else:\n",
    "        print(f'#{tes} -1')\n",
    "        continue\n",
    "    print(f'#{tes} {year}/{month}/{day}')"
   ]
  }
 ],
 "metadata": {
  "kernelspec": {
   "display_name": "Python 3",
   "language": "python",
   "name": "python3"
  },
  "language_info": {
   "codemirror_mode": {
    "name": "ipython",
    "version": 3
   },
   "file_extension": ".py",
   "mimetype": "text/x-python",
   "name": "python",
   "nbconvert_exporter": "python",
   "pygments_lexer": "ipython3",
   "version": "3.7.3"
  }
 },
 "nbformat": 4,
 "nbformat_minor": 2
}
