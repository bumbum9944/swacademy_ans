{
 "cells": [
  {
   "cell_type": "code",
   "execution_count": 5,
   "metadata": {},
   "outputs": [
    {
     "name": "stdout",
     "output_type": "stream",
     "text": [
      "[1, 90, 82, 99, 64, 70, 13, 46, 44, 23, 38, 49, 82, 87, 93, 47, 14, 27]\n"
     ]
    }
   ],
   "source": [
    "# case = int(input())\n",
    "# numbers  = list(map(int, input().split(' ')))\n",
    "\n",
    "arrange = numbers.sort()\n",
    "\n",
    "# ans = arrange[len(arrange) / 2]\n",
    "# print(ans)"
   ]
  }
 ],
 "metadata": {
  "kernelspec": {
   "display_name": "Python 3",
   "language": "python",
   "name": "python3"
  },
  "language_info": {
   "codemirror_mode": {
    "name": "ipython",
    "version": 3
   },
   "file_extension": ".py",
   "mimetype": "text/x-python",
   "name": "python",
   "nbconvert_exporter": "python",
   "pygments_lexer": "ipython3",
   "version": "3.7.3"
  }
 },
 "nbformat": 4,
 "nbformat_minor": 2
}
