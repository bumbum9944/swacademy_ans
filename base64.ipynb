{
 "cells": [
  {
   "cell_type": "code",
   "execution_count": 2,
   "metadata": {},
   "outputs": [
    {
     "data": {
      "text/plain": [
       "19"
      ]
     },
     "execution_count": 2,
     "metadata": {},
     "output_type": "execute_result"
    }
   ],
   "source": [
    "base64 = {\n",
    "    'A': 0, 'B': 1, 'C': 2, 'D': 3,\n",
    "    'E': 4, 'F': 5, 'G': 6, 'H': 7,\n",
    "    'I': 8, 'J': 9, 'K': 10, 'L': 11,\n",
    "    'M': 12, 'N': 13, 'O': 14, 'P': 15,\n",
    "    'Q': 16, 'R': 17, 'S': 18, 'T': 19,\n",
    "    'U': 20, 'V': 21, 'W': 22, 'X': 23,\n",
    "    'Y': 24, 'Z': 25, 'a': 26, 'b': 27,\n",
    "    'c': 28, 'd': 29, 'e': 30, 'f': 31,\n",
    "    'g': 32, 'h': 33, 'i': 34, 'j': 35,\n",
    "    'k': 36, 'l': 37, 'm': 38, 'n': 39,\n",
    "    'o': 40, 'p': 41, 'q': 42, 'r': 43,\n",
    "    's': 44, 't': 45, 'u': 46, 'v': 47,\n",
    "    'w': 48, 'x': 49, 'y': 50, 'z': 51,\n",
    "    '0': 52, '1': 53, '2': 54, '3': 55,\n",
    "    '4': 56, '5': 57, '6': 58, '7': 59,\n",
    "    '8': 60, '9': 61, '+': 62, '/': 63,\n",
    "}\n",
    "\n",
    "tests = int(input())\n",
    "\n",
    "for test in range(1, tests+1):\n",
    "    sentence = input()\n",
    "    bi = []\n",
    "    for letter in sentence:\n",
    "        bi.append(bin(base64[letter]))\n",
    "    # 출력된 이진수들을 앞에 0을 채워 6칸에 맞춰준다.\n",
    "    deco = ''\n",
    "    for b in bi:\n",
    "        six = '0'*(6-len(b)+2) + f'{b[2:]}'\n",
    "        deco += six\n",
    "    # 6개씩 4묶음이었던 2진수를 8개씩 3묶음으로 만든다.\n",
    "    debi = []\n",
    "    i = 0\n",
    "    for de in range(len(deco)//8):\n",
    "        debi.append(deco[i:i+8])\n",
    "        i += 8\n",
    "    ans = ''\n",
    "    for d in debi:\n",
    "        bibi = '0b'+d\n",
    "        ans += chr(int(bibi,2))\n",
    "    print(f'#{test} {ans}')"
   ]
  }
 ],
 "metadata": {
  "kernelspec": {
   "display_name": "Python 3",
   "language": "python",
   "name": "python3"
  },
  "language_info": {
   "codemirror_mode": {
    "name": "ipython",
    "version": 3
   },
   "file_extension": ".py",
   "mimetype": "text/x-python",
   "name": "python",
   "nbconvert_exporter": "python",
   "pygments_lexer": "ipython3",
   "version": "3.7.3"
  }
 },
 "nbformat": 4,
 "nbformat_minor": 2
}
